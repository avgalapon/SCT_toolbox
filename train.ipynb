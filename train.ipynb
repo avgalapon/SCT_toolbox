{
 "cells": [
  {
   "cell_type": "code",
   "execution_count": null,
   "metadata": {},
   "outputs": [],
   "source": [
    "#!/usr/bin/env python\n",
    "# -*-coding:utf-8 -*-\n",
    "'''\n",
    "@File    :   train.py\n",
    "@Time    :   2024/07/18 10:38:40\n",
    "@Author  :   AVGalapon \n",
    "@Contact :   a.v.galapon@umcg.nl\n",
    "@License :   (C)Copyright 2022-2023, Arthur Galapon\n",
    "@Desc    :   None\n",
    "'''\n",
    "\n",
    "import os\n",
    "from config_class import Config\n",
    "import preprocessor as Preprocess\n",
    "from sklearn.model_selection import train_test_split\n",
    "import matplotlib.pyplot as plt\n",
    "import prepare_data_nrrd_class\n",
    "import model_class\n",
    "import losses\n",
    "import train_class\n",
    "\n",
    "json_path = fr\"/home/galaponav/art/scripts/PhD/SCT_toolbox/train.json\"\n",
    "config = Config(json_path)\n",
    "\n",
    "patient_list = sorted(os.listdir(config.data_path))\n",
    "print(patient_list)\n",
    "\n",
    "train_data, val_data = train_test_split(patient_list, test_size=0.2, random_state=42)\n",
    "print(\"Total number of patients: \", len(patient_list))\n",
    "print(\"Number of training patients: \", len(train_data))\n",
    "print(\"Number of validation patients: \", len(val_data))\n",
    "\n",
    "# Preprocess.Preprocessor_train(config).preprocess_train(train_data, train_data=True)\n",
    "# Preprocess.Preprocessor_train(config).preprocess_train(val_data, train_data=False)\n",
    "\n",
    "print(\"Loading trainset to dataloader\")\n",
    "prepare_data = prepare_data_nrrd_class.prepare_dataset(config)\n",
    "train_dataloader, valid_dataloader = prepare_data.create_train_dataset()\n",
    "\n",
    "model, device = model_class.Model(config).intialize_training_models()\n",
    "loss = losses.define_loss(config)\n",
    "\n",
    "train_class.Train(config, model, device, loss, train_dataloader, valid_dataloader).train_cGAN()"
   ]
  }
 ],
 "metadata": {
  "kernelspec": {
   "display_name": "Python 3",
   "language": "python",
   "name": "python3"
  },
  "language_info": {
   "codemirror_mode": {
    "name": "ipython",
    "version": 3
   },
   "file_extension": ".py",
   "mimetype": "text/x-python",
   "name": "python",
   "nbconvert_exporter": "python",
   "pygments_lexer": "ipython3",
   "version": "3.9.13"
  }
 },
 "nbformat": 4,
 "nbformat_minor": 2
}
